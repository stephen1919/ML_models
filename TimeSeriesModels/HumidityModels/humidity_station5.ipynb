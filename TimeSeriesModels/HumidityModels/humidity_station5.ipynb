{
 "cells": [
  {
   "cell_type": "markdown",
   "metadata": {},
   "source": [
    "# Prophet section\n"
   ]
  },
  {
   "cell_type": "markdown",
   "metadata": {},
   "source": [
    "## module imports"
   ]
  },
  {
   "cell_type": "code",
   "execution_count": null,
   "metadata": {},
   "outputs": [],
   "source": [
    "import os\n",
    "import sys\n",
    "\n",
    "import pandas as pd\n",
    "import numpy as np\n",
    "import matplotlib.pyplot as plt\n",
    "import seaborn as sb \n",
    "from pylab import rcParams\n",
    "import scipy\n",
    "from scipy.stats import pearsonr\n",
    "\n",
    "from prophet import Prophet\n",
    "import json\n",
    "from prophet.plot import plot_plotly, plot_components_plotly\n",
    "\n",
    "from statsmodels.graphics.tsaplots import plot_pacf, plot_acf\n",
    "from statsmodels.tsa.statespace.sarimax import SARIMAX\n",
    "from statsmodels.tsa.stattools import adfuller\n",
    "#                                       \\/\n",
    "#                   The Augmented Dickey-Fuller test can be used to test \n",
    "#                   whether a given time series is stationary or not\n",
    "from sklearn.metrics import mean_squared_error\n",
    "from tqdm import tqdm_notebook\n",
    "#                    \\/\n",
    "#       responsible for displaying the progress bar\n",
    "from itertools import product\n",
    "\n",
    "import warnings\n",
    "warnings.filterwarnings('ignore')\n",
    "%matplotlib widget"
   ]
  },
  {
   "cell_type": "code",
   "execution_count": null,
   "metadata": {},
   "outputs": [],
   "source": [
    "plt.rcParams['figure.figsize'] = [10,10]"
   ]
  },
  {
   "cell_type": "markdown",
   "metadata": {},
   "source": [
    "## calling the csv data"
   ]
  },
  {
   "cell_type": "code",
   "execution_count": null,
   "metadata": {},
   "outputs": [],
   "source": [
    "humid5 = pd.read_csv('/Users/stephenshaeffer/Desktop/TXT-CSV/humidity_station5.csv')\n",
    "humid5.head()"
   ]
  },
  {
   "cell_type": "markdown",
   "metadata": {},
   "source": [
    "## defining the \"m\" method"
   ]
  },
  {
   "cell_type": "code",
   "execution_count": null,
   "metadata": {},
   "outputs": [],
   "source": [
    "m = Prophet()\n",
    "m.fit(humid5)"
   ]
  },
  {
   "cell_type": "markdown",
   "metadata": {},
   "source": [
    "## defining prediction dataframes"
   ]
  },
  {
   "cell_type": "code",
   "execution_count": null,
   "metadata": {},
   "outputs": [],
   "source": [
    "humidDayfuture = m.make_future_dataframe(periods=1)\n",
    "humidDayfuture.tail()"
   ]
  },
  {
   "cell_type": "code",
   "execution_count": null,
   "metadata": {},
   "outputs": [],
   "source": [
    "humidWeekfuture = m.make_future_dataframe(periods=7)\n",
    "humidWeekfuture.tail()"
   ]
  },
  {
   "cell_type": "code",
   "execution_count": null,
   "metadata": {},
   "outputs": [],
   "source": [
    "humid2Weekfuture = m.make_future_dataframe(periods=14)\n",
    "humid2Weekfuture"
   ]
  },
  {
   "cell_type": "markdown",
   "metadata": {},
   "source": [
    "## utilizing the prediction data frames with the \"predict\" method"
   ]
  },
  {
   "cell_type": "code",
   "execution_count": null,
   "metadata": {},
   "outputs": [],
   "source": [
    "humidDayforecast = m.predict(humidDayfuture)\n",
    "humidDayforecast[['ds', 'yhat', 'yhat_lower', 'yhat_upper']]"
   ]
  },
  {
   "cell_type": "code",
   "execution_count": null,
   "metadata": {},
   "outputs": [],
   "source": [
    "humidWeekforecast = m.predict(humidWeekfuture)\n",
    "humidWeekforecast[['ds', 'yhat', 'yhat_lower', 'yhat_upper']]"
   ]
  },
  {
   "cell_type": "code",
   "execution_count": null,
   "metadata": {},
   "outputs": [],
   "source": [
    "humid2Weekforecast = m.predict(humid2Weekfuture)\n",
    "humid2Weekforecast[['ds', 'yhat', 'yhat_lower', 'yhat_upper']]"
   ]
  },
  {
   "cell_type": "markdown",
   "metadata": {},
   "source": [
    "## plotting the 24 hour forcasting"
   ]
  },
  {
   "cell_type": "code",
   "execution_count": null,
   "metadata": {},
   "outputs": [],
   "source": [
    "# forcast 1\n",
    "m.plot(humidDayforecast)"
   ]
  },
  {
   "cell_type": "code",
   "execution_count": null,
   "metadata": {},
   "outputs": [],
   "source": [
    "# forcast 2\n",
    "m.plot_components(humidDayforecast)"
   ]
  },
  {
   "cell_type": "code",
   "execution_count": null,
   "metadata": {},
   "outputs": [],
   "source": [
    "# forcast 3\n",
    "plot_plotly(m, humidDayforecast)"
   ]
  },
  {
   "cell_type": "code",
   "execution_count": null,
   "metadata": {},
   "outputs": [],
   "source": [
    "# forcast 4\n",
    "plot_components_plotly(m, humidDayforecast)"
   ]
  },
  {
   "cell_type": "markdown",
   "metadata": {},
   "source": [
    "## plotting the weekly forcasting\n"
   ]
  },
  {
   "cell_type": "code",
   "execution_count": null,
   "metadata": {},
   "outputs": [],
   "source": [
    "# forcast 1\n",
    "m.plot(humidWeekforecast)    "
   ]
  },
  {
   "cell_type": "code",
   "execution_count": null,
   "metadata": {},
   "outputs": [],
   "source": [
    "# forcast 2\n",
    "m.plot_components(humidWeekforecast)"
   ]
  },
  {
   "cell_type": "code",
   "execution_count": null,
   "metadata": {},
   "outputs": [],
   "source": [
    "# forcast 3\n",
    "plot_plotly(m, humidWeekforecast)"
   ]
  },
  {
   "cell_type": "code",
   "execution_count": null,
   "metadata": {},
   "outputs": [],
   "source": [
    "# forcast 4\n",
    "plot_components_plotly(m, humidWeekforecast)"
   ]
  },
  {
   "cell_type": "markdown",
   "metadata": {},
   "source": [
    "## plotting the 2 week forcasting\n"
   ]
  },
  {
   "cell_type": "code",
   "execution_count": null,
   "metadata": {},
   "outputs": [],
   "source": [
    "# forcast 1\n",
    "m.plot(humid2Weekforecast)"
   ]
  },
  {
   "cell_type": "code",
   "execution_count": null,
   "metadata": {},
   "outputs": [],
   "source": [
    "# forcast 2\n",
    "m.plot_components(humid2Weekforecast)"
   ]
  },
  {
   "cell_type": "code",
   "execution_count": null,
   "metadata": {},
   "outputs": [],
   "source": [
    "# forcast 3\n",
    "plot_plotly(m, humid2Weekforecast)"
   ]
  },
  {
   "cell_type": "code",
   "execution_count": null,
   "metadata": {},
   "outputs": [],
   "source": [
    "# forcast 4\n",
    "plot_components_plotly(m, humid2Weekforecast)"
   ]
  },
  {
   "cell_type": "markdown",
   "metadata": {},
   "source": [
    "# ARIMA section\n"
   ]
  },
  {
   "cell_type": "markdown",
   "metadata": {},
   "source": [
    "## plotting the data"
   ]
  },
  {
   "cell_type": "code",
   "execution_count": null,
   "metadata": {},
   "outputs": [],
   "source": [
    "plt.plot(humid5['ds'], humid5['y'])\n",
    "plt.ylabel('Humidity')\n",
    "plt.xlabel('Date')\n",
    "plt.xticks(rotation=30)\n",
    "plt.rcParams['figure.figsize'] = [10, 10]"
   ]
  },
  {
   "cell_type": "markdown",
   "metadata": {},
   "source": [
    "## testing for stationary"
   ]
  },
  {
   "cell_type": "code",
   "execution_count": null,
   "metadata": {},
   "outputs": [],
   "source": [
    "\"\"\"\n",
    "testing for unit root with ACF\n",
    "\n",
    "\"\"\"\n",
    "def stationarity_test1():\n",
    "# a1 and c1 are for the ranges of p that should be acceptable\n",
    "    a1 = 0.001\n",
    "    a2 = 0.01\n",
    "    b1 = 0.05\n",
    "    b2 = 0.001\n",
    "    c1 = 0.10\n",
    "\n",
    "    ad_fuller_result = adfuller(humid5['y'])\n",
    "\n",
    "    p = (ad_fuller_result[1])\n",
    "    \n",
    "    ADF1 = (ad_fuller_result[0])\n",
    "    p1 = (ad_fuller_result[1])\n",
    "\n",
    "    humid5['log_diff'] = np.log(humid5['y']) # taking that log of the data \n",
    "    humid5['log_diff'] = humid5['log_diff'].diff() # taking the difference of the log data\n",
    "    ad_fuller_result2 = adfuller(humid5['log_diff'][1:])\n",
    "\n",
    "    ADF2 = (ad_fuller_result2[0])\n",
    "    p2 = (ad_fuller_result2[1])\n",
    "\n",
    "    if ((ADF2 and p2) < (ADF1 and p1)) and ((p2 < a1) or (a1 < p2 < a2) or (b1 < p2 < b2)):\n",
    "        print('this is stationary\\n ADF                p-value')\n",
    "        return ADF2, p2\n",
    "    elif (ADF2 and p2) > (ADF1 and p1) and ((p1 < a1) or (a1 < p1 < a2) or (b1 < p1 < b2)):\n",
    "        print('this is stationary\\n ADF                p-value')\n",
    "        return ADF2, p2\n",
    "\n",
    "stationarity_test1()"
   ]
  },
  {
   "cell_type": "markdown",
   "metadata": {},
   "source": [
    "## determining best parameters with AIC and the fitting then best model"
   ]
  },
  {
   "cell_type": "code",
   "execution_count": null,
   "metadata": {},
   "outputs": [],
   "source": [
    "\"\"\"\n",
    "AR: order of 0-10\n",
    "I: equals 1 (since we only difference once)\n",
    "MA: order of 0-10\n",
    "\"\"\"\n",
    "def optimize_ARIMA(endog, order_list):\n",
    "    \"\"\"\n",
    "        Return dataframe with parameters and corresponding AIC (Akaike Information Criterion)\n",
    "                                                            ^\n",
    "                                            This is an estimator of prediction error\n",
    "        order_list - list with (p, d, q) tuples\n",
    "        endog - the observed variable\n",
    "    \"\"\"\n",
    "    \n",
    "    results = []\n",
    "    \n",
    "    for order in tqdm_notebook(order_list):\n",
    "        try: \n",
    "            model = SARIMAX(endog, order=order, simple_differencing=False).fit(disp=False)\n",
    "        except:\n",
    "            continue\n",
    "            \n",
    "        aic = model.aic\n",
    "        results.append([order, model.aic])\n",
    "        \n",
    "    result_df = pd.DataFrame(results)\n",
    "    result_df.columns = ['(p, d, q)', 'AIC']\n",
    "    #Sort in ascending order, lower AIC is better\n",
    "    result_df = result_df.sort_values(by='AIC', ascending=True).reset_index(drop=True)\n",
    "    \n",
    "    return result_df"
   ]
  },
  {
   "cell_type": "code",
   "execution_count": null,
   "metadata": {},
   "outputs": [],
   "source": [
    "ps = range(0, 10, 1)\n",
    "d = 1\n",
    "qs = range(0, 10, 1)\n",
    "\n",
    "# Create a list with all possible combination of parameters\n",
    "parameters = product(ps, qs)\n",
    "parameters_list = list(parameters)\n",
    "\n",
    "order_list = []\n",
    "\n",
    "for each in parameters_list:\n",
    "    each = list(each)\n",
    "    each.insert(1, 1)\n",
    "    each = tuple(each)\n",
    "    order_list.append(each)"
   ]
  },
  {
   "cell_type": "code",
   "execution_count": null,
   "metadata": {},
   "outputs": [],
   "source": [
    "result_df = optimize_ARIMA(humid5['y'], order_list)\n",
    "result_df"
   ]
  },
  {
   "cell_type": "code",
   "execution_count": null,
   "metadata": {},
   "outputs": [],
   "source": [
    "\"\"\"\n",
    "fitting the best (p, d, q) Seasonal Auto Regressive Integrated Moving Average \n",
    "\"\"\"\n",
    "best_model1 = SARIMAX(humid5['y'], order=(3, 1, 6), simple_differencing=False)\n",
    "#                                                           ^\n",
    "#                             Whether or not to use partially conditional maximum likelihood estimation\n",
    "res = best_model1.fit(disp=False)\n",
    "print(res.summary())"
   ]
  },
  {
   "cell_type": "code",
   "execution_count": null,
   "metadata": {},
   "outputs": [],
   "source": [
    "res.plot_diagnostics();"
   ]
  },
  {
   "cell_type": "markdown",
   "metadata": {},
   "source": [
    "## evaluating forecasting results of the model"
   ]
  },
  {
   "cell_type": "code",
   "execution_count": null,
   "metadata": {},
   "outputs": [],
   "source": [
    "\"\"\"\n",
    "forecasting a predicted mean value\n",
    "\"\"\"\n",
    "n_forecast = 1000\n",
    "predict = res.get_prediction(end=best_model1.nobs + n_forecast)\n",
    "#                                            /\\\n",
    "#                           this means number of observations \n",
    "idx1 = np.arange(len(predict.predicted_mean))\n",
    "\n",
    "fig, ax = plt.subplots()\n",
    "ax.plot(humid5['y'], 'blue')\n",
    "ax.plot(idx1[-n_forecast:], predict.predicted_mean[-n_forecast:], 'y--')\n",
    "\n",
    "ax.set(title = 'Humidity Forecast 1')\n",
    "plt.show()"
   ]
  },
  {
   "cell_type": "code",
   "execution_count": null,
   "metadata": {},
   "outputs": [],
   "source": [
    "humid5['model'] = predict.predicted_mean\n",
    "humid5"
   ]
  },
  {
   "cell_type": "markdown",
   "metadata": {},
   "source": [
    "## taking into account mean squared error value for the model"
   ]
  },
  {
   "cell_type": "code",
   "execution_count": null,
   "metadata": {},
   "outputs": [],
   "source": [
    "mse = mean_squared_error(humid5['y'], humid5['model'])\n",
    "print(f'MSE: {mse}')"
   ]
  },
  {
   "cell_type": "markdown",
   "metadata": {},
   "source": [
    "# SARIMA section"
   ]
  },
  {
   "cell_type": "markdown",
   "metadata": {},
   "source": [
    "## testing for stationary"
   ]
  },
  {
   "cell_type": "code",
   "execution_count": null,
   "metadata": {},
   "outputs": [],
   "source": [
    "\"\"\"\n",
    "data_tr_2 is the seasonal difference\n",
    "data_tr_1 is the log difference \n",
    "\"\"\"\n",
    "humid5['seasonal_diff'] = humid5['log_diff'][1:].diff(1)\n",
    "humid5.head(20)"
   ]
  },
  {
   "cell_type": "code",
   "execution_count": null,
   "metadata": {},
   "outputs": [],
   "source": [
    "def stationarity_test2():\n",
    "    \n",
    "    a1 = 0.001\n",
    "    a2 = 0.01\n",
    "    b1 = 0.05\n",
    "    b2 = 0.001\n",
    "    c1 = 0.10\n",
    "\n",
    "    ad_fuller_result = adfuller(humid5['y'])\n",
    "\n",
    "    p = (ad_fuller_result[1])\n",
    "    \n",
    "    ADF1 = (ad_fuller_result[0])\n",
    "    p1 = (ad_fuller_result[1])\n",
    "\n",
    "    humid5['seasonal_diff'] = np.log(humid5['y']) # taking that log of the data \n",
    "    humid5['seasonal_diff'] = humid5['seasonal_diff'].diff() # taking the difference of the log data\n",
    "    ad_fuller_result2 = adfuller(humid5['seasonal_diff'][2:])\n",
    "\n",
    "    ADF2 = (ad_fuller_result2[0])\n",
    "    p2 = (ad_fuller_result2[1])\n",
    "\n",
    "    if ((ADF2 and p2) < (ADF1 and p1)) and ((p2 < a1) or (a1 < p2 < a2) or (b1 < p2 < b2)):\n",
    "        print('this is stationary\\n ADF                p-value')\n",
    "        return ADF2, p2\n",
    "    elif (ADF1 and p1) > (ADF1 and p1) and ((p1 < a1) or (a1 < p1 < a2) or (b1 < p1 < b2)):\n",
    "        print('this is stationary\\n ADF                p-value')\n",
    "        return ADF1, p1\n",
    "\n",
    "stationarity_test2()"
   ]
  },
  {
   "cell_type": "code",
   "execution_count": null,
   "metadata": {},
   "outputs": [],
   "source": [
    "\"\"\" the middle value for the range is 2 because it is representing 1/5th of the data (to save computation time) \"\"\"\n",
    "p = range(0,2,1)\n",
    "d = 1\n",
    "q = range(0,2,1)\n",
    "P = range(0,2,1)\n",
    "D = 1\n",
    "Q = range(0,2,1)\n",
    "s = 4\n",
    "\n",
    "parameters = product(p, q, P, Q)\n",
    "parameters_list = list(parameters)\n",
    "\n",
    "print(len(parameters_list))\n",
    "print(parameters_list[:5])"
   ]
  },
  {
   "cell_type": "code",
   "execution_count": null,
   "metadata": {},
   "outputs": [],
   "source": [
    "#                                                         order of differencing \n",
    "#                                                         |\n",
    "#                                                         | seasonal order of differencing\n",
    "#                                                         |  |  \n",
    "#                                                         |  |  length of the season\n",
    "#                                                         |  |  |\n",
    "#                                                        \\/ \\/ \\/\n",
    "result_df = optimize_SARIMA(humid5['y'], parameters_list, 1, 1, 2)\n",
    "result_df"
   ]
  },
  {
   "cell_type": "markdown",
   "metadata": {},
   "source": [
    "## fitting the best model fit with SARIMAX "
   ]
  },
  {
   "cell_type": "code",
   "execution_count": null,
   "metadata": {},
   "outputs": [],
   "source": [
    "best_model2 = SARIMAX(humid5['y'], order=(2,1,3), seasonal_order=(0,1,0,4), simple_differencing=False)\n",
    "res = best_model2.fit(disp=False)\n",
    "\n",
    "print(res.summary())"
   ]
  },
  {
   "cell_type": "code",
   "execution_count": null,
   "metadata": {},
   "outputs": [],
   "source": [
    "res.plot_diagnostics();"
   ]
  },
  {
   "cell_type": "code",
   "execution_count": null,
   "metadata": {},
   "outputs": [],
   "source": [
    "n_forecast = 1000\n",
    "predict = res.get_prediction(end=best_model2.nobs + n_forecast)\n",
    "idx = np.arange(len(predict.predicted_mean))\n",
    "\n",
    "fig, ax = plt.subplots()\n",
    "ax.plot(humid5['y'], 'blue')\n",
    "ax.plot(idx[-n_forecast:], predict.predicted_mean[-n_forecast:], 'g--')\n",
    "\n",
    "ax.set(title='Humidity Forcast 2')\n",
    "plt.show()"
   ]
  },
  {
   "cell_type": "code",
   "execution_count": null,
   "metadata": {},
   "outputs": [],
   "source": [
    "humid5['model2'] = predict.predicted_mean\n",
    "humid5"
   ]
  },
  {
   "cell_type": "markdown",
   "metadata": {},
   "source": [
    "## taking into account mean squared error value for the model"
   ]
  },
  {
   "cell_type": "code",
   "execution_count": null,
   "metadata": {},
   "outputs": [],
   "source": [
    "mse = mean_squared_error(humid5['y'], humid5['model2'])\n",
    "print(f'MSE: {mse}')"
   ]
  },
  {
   "cell_type": "markdown",
   "metadata": {},
   "source": [
    "# ARIMA and SARIMA comparison"
   ]
  },
  {
   "cell_type": "code",
   "execution_count": null,
   "metadata": {},
   "outputs": [],
   "source": [
    "plt.plot(humid5['y'], color='blue', label='actual')\n",
    "plt.plot(humid5['model'], color='red', label='model')\n",
    "plt.plot(humid5['model2'], color='green', label='model2')\n",
    "plt.legend(loc='best')\n",
    "plt.title('comparison of ARIMA and SARIMA model to actual')\n",
    "plt.show()"
   ]
  }
 ],
 "metadata": {
  "language_info": {
   "name": "python"
  },
  "orig_nbformat": 4
 },
 "nbformat": 4,
 "nbformat_minor": 2
}
