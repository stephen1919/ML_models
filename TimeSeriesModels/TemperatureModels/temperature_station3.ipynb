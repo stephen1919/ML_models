{
 "cells": [
  {
   "cell_type": "markdown",
   "metadata": {},
   "source": [
    "# Prophet section\n"
   ]
  },
  {
   "cell_type": "markdown",
   "metadata": {},
   "source": [
    "## module imports"
   ]
  },
  {
   "cell_type": "code",
   "execution_count": 1,
   "metadata": {},
   "outputs": [],
   "source": [
    "import os\n",
    "import sys\n",
    "\n",
    "import pandas as pd\n",
    "import numpy as np\n",
    "import matplotlib.pyplot as plt\n",
    "import seaborn as sb \n",
    "from pylab import rcParams\n",
    "import scipy\n",
    "from scipy.stats import pearsonr\n",
    "\n",
    "from prophet import Prophet\n",
    "import json\n",
    "from prophet.plot import plot_plotly, plot_components_plotly\n",
    "\n",
    "from statsmodels.graphics.tsaplots import plot_pacf, plot_acf\n",
    "from statsmodels.tsa.statespace.sarimax import SARIMAX\n",
    "from statsmodels.tsa.stattools import adfuller\n",
    "#                                       \\/\n",
    "#                   The Augmented Dickey-Fuller test can be used to test \n",
    "#                   whether a given time series is stationary or not\n",
    "from sklearn.metrics import mean_squared_error\n",
    "from tqdm import tqdm_notebook\n",
    "#                    \\/\n",
    "#       responsible for displaying the progress bar\n",
    "from itertools import product\n",
    "\n",
    "import warnings\n",
    "warnings.filterwarnings('ignore')\n",
    "%matplotlib widget"
   ]
  },
  {
   "cell_type": "code",
   "execution_count": null,
   "metadata": {},
   "outputs": [],
   "source": [
    "plt.rcParams['figure.figsize'] = [10,10]"
   ]
  },
  {
   "cell_type": "markdown",
   "metadata": {},
   "source": [
    "## calling the csv data"
   ]
  },
  {
   "cell_type": "code",
   "execution_count": null,
   "metadata": {},
   "outputs": [],
   "source": [
    "temp3 = pd.read_csv('/Users/stephenshaeffer/Desktop/TXT-CSV/temperature_sation2.csv')\n",
    "temp3.head()"
   ]
  },
  {
   "cell_type": "markdown",
   "metadata": {},
   "source": [
    "## defining the \"m\" method "
   ]
  },
  {
   "cell_type": "code",
   "execution_count": null,
   "metadata": {},
   "outputs": [],
   "source": [
    "m = Prophet()\n",
    "m.fit(temp3)"
   ]
  },
  {
   "cell_type": "markdown",
   "metadata": {},
   "source": [
    "## defining prediction dataframes"
   ]
  },
  {
   "cell_type": "code",
   "execution_count": null,
   "metadata": {},
   "outputs": [],
   "source": [
    "tempDayfuture = m.make_future_dataframe(periods=1)\n",
    "tempDayfuture.tail()"
   ]
  },
  {
   "cell_type": "code",
   "execution_count": null,
   "metadata": {},
   "outputs": [],
   "source": [
    "tempWeekfuture = m.make_future_dataframe(periods=7)\n",
    "tempWeekfuture.tail()"
   ]
  },
  {
   "cell_type": "code",
   "execution_count": null,
   "metadata": {},
   "outputs": [],
   "source": [
    "temp3Weekfuture = m.make_future_dataframe(periods=14)\n",
    "temp3Weekfuture"
   ]
  },
  {
   "cell_type": "markdown",
   "metadata": {},
   "source": [
    "## utilizing the prediction data frames with the \"predict\" method"
   ]
  },
  {
   "cell_type": "code",
   "execution_count": null,
   "metadata": {},
   "outputs": [],
   "source": [
    "tempDayforecast = m.predict(tempDayfuture)\n",
    "tempDayforecast[['ds', 'yhat', 'yhat_lower', 'yhat_upper']]"
   ]
  },
  {
   "cell_type": "code",
   "execution_count": null,
   "metadata": {},
   "outputs": [],
   "source": [
    "tempWeekforecast = m.predict(tempWeekfuture)\n",
    "tempWeekforecast[['ds', 'yhat', 'yhat_lower', 'yhat_upper']]"
   ]
  },
  {
   "cell_type": "code",
   "execution_count": null,
   "metadata": {},
   "outputs": [],
   "source": [
    "temp3Weekforecast = m.predict(temp3Weekfuture)\n",
    "temp3Weekforecast[['ds', 'yhat', 'yhat_lower', 'yhat_upper']]"
   ]
  },
  {
   "cell_type": "markdown",
   "metadata": {},
   "source": [
    "## plotting the 24 hour forcasting"
   ]
  },
  {
   "cell_type": "code",
   "execution_count": null,
   "metadata": {},
   "outputs": [],
   "source": [
    "# forcast 1\n",
    "m.plot(tempDayforecast)"
   ]
  },
  {
   "cell_type": "code",
   "execution_count": null,
   "metadata": {},
   "outputs": [],
   "source": [
    "# forcast 2\n",
    "m.plot_components(tempDayforecast)"
   ]
  },
  {
   "cell_type": "code",
   "execution_count": null,
   "metadata": {},
   "outputs": [],
   "source": [
    "# forcast 3\n",
    "plot_plotly(m, tempDayforecast)"
   ]
  },
  {
   "cell_type": "code",
   "execution_count": null,
   "metadata": {},
   "outputs": [],
   "source": [
    "# forcast 4\n",
    "plot_components_plotly(m, tempDayforecast)"
   ]
  },
  {
   "cell_type": "markdown",
   "metadata": {},
   "source": [
    "## plotting the weekly forcasting\n"
   ]
  },
  {
   "cell_type": "code",
   "execution_count": null,
   "metadata": {},
   "outputs": [],
   "source": [
    "# forcast 1\n",
    "m.plot(tempWeekforecast)    "
   ]
  },
  {
   "cell_type": "code",
   "execution_count": null,
   "metadata": {},
   "outputs": [],
   "source": [
    "# forcast 2\n",
    "m.plot_components(tempDayforecast)"
   ]
  },
  {
   "cell_type": "code",
   "execution_count": null,
   "metadata": {},
   "outputs": [],
   "source": [
    "# forcast 3\n",
    "plot_plotly(m, tempDayforecast)"
   ]
  },
  {
   "cell_type": "code",
   "execution_count": null,
   "metadata": {},
   "outputs": [],
   "source": [
    "# forcast 4\n",
    "plot_components_plotly(m, tempDayforecast)"
   ]
  },
  {
   "cell_type": "markdown",
   "metadata": {},
   "source": [
    "## plotting the 2 week forcasting\n"
   ]
  },
  {
   "cell_type": "code",
   "execution_count": null,
   "metadata": {},
   "outputs": [],
   "source": [
    "# forcast 1\n",
    "m.plot(temp3Weekforecast)"
   ]
  },
  {
   "cell_type": "code",
   "execution_count": null,
   "metadata": {},
   "outputs": [],
   "source": [
    "# forcast 2\n",
    "m.plot_components(temp3Weekforecast)"
   ]
  },
  {
   "cell_type": "code",
   "execution_count": null,
   "metadata": {},
   "outputs": [],
   "source": [
    "# forcast 3\n",
    "plot_plotly(m, temp3Weekforecast)"
   ]
  },
  {
   "cell_type": "code",
   "execution_count": null,
   "metadata": {},
   "outputs": [],
   "source": [
    "# forcast 4\n",
    "plot_components_plotly(m, temp3Weekforecast)"
   ]
  },
  {
   "cell_type": "markdown",
   "metadata": {},
   "source": [
    "# ARIMA section\n"
   ]
  },
  {
   "cell_type": "markdown",
   "metadata": {},
   "source": [
    "## plotting the data"
   ]
  },
  {
   "cell_type": "code",
   "execution_count": null,
   "metadata": {},
   "outputs": [],
   "source": [
    "plt.plot(temp3['ds'], temp3['y'])\n",
    "plt.ylabel('Temperature (F)')\n",
    "plt.xlabel('Date')\n",
    "plt.xticks(rotation=30)\n",
    "plt.rcParams['figure.figsize'] = [10, 10]"
   ]
  },
  {
   "cell_type": "markdown",
   "metadata": {},
   "source": [
    "## testing for stationary"
   ]
  },
  {
   "cell_type": "code",
   "execution_count": null,
   "metadata": {},
   "outputs": [],
   "source": [
    "\"\"\"\n",
    "testing for unit root with ACF\n",
    "\n",
    "\"\"\"\n",
    "def stationarity_test1():\n",
    "# a1 and c1 are for the ranges of p that should be acceptable\n",
    "    a1 = 0.001\n",
    "    a2 = 0.01\n",
    "    b1 = 0.05\n",
    "    b2 = 0.001\n",
    "    c1 = 0.10\n",
    "\n",
    "    ad_fuller_result = adfuller(temp3['y'])\n",
    "\n",
    "    p = (ad_fuller_result[1])\n",
    "    \n",
    "    ADF1 = (ad_fuller_result[0])\n",
    "    p1 = (ad_fuller_result[1])\n",
    "\n",
    "    temp3['log_diff'] = np.log(temp3['y']) # taking that log of the data \n",
    "    temp3['log_diff'] = temp3['log_diff'].diff() # taking the difference of the log data\n",
    "    ad_fuller_result2 = adfuller(temp3['log_diff'][1:])\n",
    "\n",
    "    ADF2 = (ad_fuller_result2[0])\n",
    "    p2 = (ad_fuller_result2[1])\n",
    "\n",
    "    if ((ADF2 and p2) < (ADF1 and p1)) and ((p2 < a1) or (a1 < p2 < a2) or (b1 < p2 < b2)):\n",
    "        print('this is stationary\\n ADF                p-value')\n",
    "        return ADF2, p2\n",
    "    elif (ADF2 and p2) > (ADF1 and p1) and ((p1 < a1) or (a1 < p1 < a2) or (b1 < p1 < b2)):\n",
    "        print('this is stationary\\n ADF                p-value')\n",
    "        return ADF2, p2\n",
    "\n",
    "stationarity_test1()"
   ]
  },
  {
   "cell_type": "markdown",
   "metadata": {},
   "source": [
    "## determining best parameters with AIC and the fitting then best model"
   ]
  },
  {
   "cell_type": "code",
   "execution_count": null,
   "metadata": {},
   "outputs": [],
   "source": [
    "\"\"\"\n",
    "AR: order of 0-10\n",
    "I: equals 1 (since we only difference once)\n",
    "MA: order of 0-10\n",
    "\"\"\"\n",
    "def optimize_ARIMA(endog, order_list):\n",
    "    \"\"\"\n",
    "        Return dataframe with parameters and corresponding AIC (Akaike Information Criterion)\n",
    "                                                            ^\n",
    "                                            This is an estimator of prediction error\n",
    "        order_list - list with (p, d, q) tuples\n",
    "        endog - the observed variable\n",
    "    \"\"\"\n",
    "    \n",
    "    results = []\n",
    "    \n",
    "    for order in tqdm_notebook(order_list):\n",
    "        try: \n",
    "            model = SARIMAX(endog, order=order, simple_differencing=False).fit(disp=False)\n",
    "        except:\n",
    "            continue\n",
    "            \n",
    "        aic = model.aic\n",
    "        results.append([order, model.aic])\n",
    "        \n",
    "    result_df = pd.DataFrame(results)\n",
    "    result_df.columns = ['(p, d, q)', 'AIC']\n",
    "    #Sort in ascending order, lower AIC is better\n",
    "    result_df = result_df.sort_values(by='AIC', ascending=True).reset_index(drop=True)\n",
    "    \n",
    "    return result_df"
   ]
  },
  {
   "cell_type": "code",
   "execution_count": null,
   "metadata": {},
   "outputs": [],
   "source": [
    "ps = range(0, 10, 1)\n",
    "d = 1\n",
    "qs = range(0, 10, 1)\n",
    "\n",
    "# Create a list with all possible combination of parameters\n",
    "parameters = product(ps, qs)\n",
    "parameters_list = list(parameters)\n",
    "\n",
    "order_list = []\n",
    "\n",
    "for each in parameters_list:\n",
    "    each = list(each)\n",
    "    each.insert(1, 1)\n",
    "    each = tuple(each)\n",
    "    order_list.append(each)"
   ]
  },
  {
   "cell_type": "code",
   "execution_count": null,
   "metadata": {},
   "outputs": [],
   "source": [
    "result_df = optimize_ARIMA(temp3['y'], order_list)\n",
    "result_df"
   ]
  },
  {
   "cell_type": "code",
   "execution_count": null,
   "metadata": {},
   "outputs": [],
   "source": [
    "\"\"\"\n",
    "fitting the best (p, d, q) Seasonal Auto Regressive Integrated Moving Average \n",
    "\"\"\"\n",
    "best_model1 = SARIMAX(temp3['y'], order=(3, 1, 6), simple_differencing=False)\n",
    "#                                                           ^\n",
    "#                             Whether or not to use partially conditional maximum likelihood estimation\n",
    "res = best_model1.fit(disp=False)\n",
    "print(res.summary())"
   ]
  },
  {
   "cell_type": "code",
   "execution_count": null,
   "metadata": {},
   "outputs": [],
   "source": [
    "res.plot_diagnostics();"
   ]
  },
  {
   "cell_type": "markdown",
   "metadata": {},
   "source": [
    "## evaluating forecasting results of the model"
   ]
  },
  {
   "cell_type": "code",
   "execution_count": null,
   "metadata": {},
   "outputs": [],
   "source": [
    "\"\"\"\n",
    "forecasting a predicted mean value\n",
    "\"\"\"\n",
    "n_forecast = 1000\n",
    "predict = res.get_prediction(end=best_model1.nobs + n_forecast)\n",
    "#                                            /\\\n",
    "#                           this means number of observations \n",
    "idx1 = np.arange(len(predict.predicted_mean))\n",
    "\n",
    "fig, ax = plt.subplots()\n",
    "ax.plot(temp3['y'], 'blue')\n",
    "ax.plot(idx1[-n_forecast:], predict.predicted_mean[-n_forecast:], 'y--')\n",
    "\n",
    "ax.set(title = 'Temperature Forecast 1')\n",
    "plt.show()"
   ]
  },
  {
   "cell_type": "code",
   "execution_count": null,
   "metadata": {},
   "outputs": [],
   "source": [
    "temp3['model'] = predict.predicted_mean\n",
    "temp3"
   ]
  },
  {
   "cell_type": "markdown",
   "metadata": {},
   "source": [
    "## taking into account mean squared error value for the model"
   ]
  },
  {
   "cell_type": "code",
   "execution_count": null,
   "metadata": {},
   "outputs": [],
   "source": [
    "mse = mean_squared_error(temp3['y'], temp3['model'])\n",
    "print(f'MSE: {mse}')"
   ]
  },
  {
   "cell_type": "markdown",
   "metadata": {},
   "source": [
    "# SARIMA section"
   ]
  },
  {
   "cell_type": "markdown",
   "metadata": {},
   "source": [
    "## testing for stationary"
   ]
  },
  {
   "cell_type": "code",
   "execution_count": null,
   "metadata": {},
   "outputs": [],
   "source": [
    "\"\"\"\n",
    "data_tr_2 is the seasonal difference\n",
    "data_tr_1 is the log difference \n",
    "\"\"\"\n",
    "temp3['seasonal_diff'] = temp3['log_diff'][1:].diff(1)\n",
    "temp3.head(20)"
   ]
  },
  {
   "cell_type": "code",
   "execution_count": null,
   "metadata": {},
   "outputs": [],
   "source": [
    "def stationarity_test2():\n",
    "    \n",
    "    a1 = 0.001\n",
    "    a2 = 0.01\n",
    "    b1 = 0.05\n",
    "    b2 = 0.001\n",
    "    c1 = 0.10\n",
    "\n",
    "    ad_fuller_result = adfuller(temp3['y'])\n",
    "\n",
    "    p = (ad_fuller_result[1])\n",
    "    \n",
    "    ADF1 = (ad_fuller_result[0])\n",
    "    p1 = (ad_fuller_result[1])\n",
    "\n",
    "    temp3['seasonal_diff'] = np.log(temp3['y']) # taking that log of the data \n",
    "    temp3['seasonal_diff'] = temp3['seasonal_diff'].diff() # taking the difference of the log data\n",
    "    ad_fuller_result2 = adfuller(temp3['seasonal_diff'][2:])\n",
    "\n",
    "    ADF2 = (ad_fuller_result2[0])\n",
    "    p2 = (ad_fuller_result2[1])\n",
    "\n",
    "    if ((ADF2 and p2) < (ADF1 and p1)) and ((p2 < a1) or (a1 < p2 < a2) or (b1 < p2 < b2)):\n",
    "        print('this is stationary\\n ADF                p-value')\n",
    "        return ADF2, p2\n",
    "    elif (ADF1 and p1) > (ADF1 and p1) and ((p1 < a1) or (a1 < p1 < a2) or (b1 < p1 < b2)):\n",
    "        print('this is stationary\\n ADF                p-value')\n",
    "        return ADF1, p1\n",
    "\n",
    "stationarity_test2()"
   ]
  },
  {
   "cell_type": "markdown",
   "metadata": {},
   "source": [
    "## determining best parameters with AIC and then fitting the best model"
   ]
  },
  {
   "cell_type": "code",
   "execution_count": null,
   "metadata": {},
   "outputs": [],
   "source": [
    "def optimize_SARIMA(endog, parameters_list, d, D, s):\n",
    "    \"\"\"\n",
    "        Returns dataframe with parameters and correspondings AIC\n",
    "\n",
    "        endog           - the observed variable \n",
    "        parameters_list - list with (p, q, P, Q) tuples \n",
    "        d               - integration order \n",
    "        D               - seasonal integration order \n",
    "        s               - length of a season\n",
    "    \"\"\"\n",
    "\n",
    "    results = []\n",
    "\n",
    "    for param in tqdm_notebook(parameters_list):\n",
    "        try:\n",
    "            model2 = SARIMAX(endog,\n",
    "            order = (param[0], d, param[1]),\n",
    "            seasonal_order = (param[2], D, param[3], s),\n",
    "            simple_differencing=False).fit(disp=False)\n",
    "        except:\n",
    "            continue\n",
    "\n",
    "        aic = model2.aic\n",
    "        results.append([param, aic])\n",
    "\n",
    "    result_df = pd.DataFrame(results)\n",
    "    result_df.columns = ['(p,q)x(P,Q)', 'AIC']\n",
    "\n",
    "    result_df = result_df.sort_values(by='AIC', ascending=True).reset_index(drop=True)\n",
    "\n",
    "    return result_df"
   ]
  },
  {
   "cell_type": "code",
   "execution_count": null,
   "metadata": {},
   "outputs": [],
   "source": [
    "\"\"\" the middle value for the range is 2 because it is representing 1/5th of the data (to save computation time) \"\"\"\n",
    "p = range(0,2,1)\n",
    "d = 1\n",
    "q = range(0,2,1)\n",
    "P = range(0,2,1)\n",
    "D = 1\n",
    "Q = range(0,2,1)\n",
    "s = 4\n",
    "\n",
    "parameters = product(p, q, P, Q)\n",
    "parameters_list = list(parameters)\n",
    "\n",
    "print(len(parameters_list))\n",
    "print(parameters_list[:5])"
   ]
  },
  {
   "cell_type": "code",
   "execution_count": null,
   "metadata": {},
   "outputs": [],
   "source": [
    "#                                                         order of differencing \n",
    "#                                                         |\n",
    "#                                                         | seasonal order of differencing\n",
    "#                                                         |  |  \n",
    "#                                                         |  |  length of the season\n",
    "#                                                         |  |  |\n",
    "#                                                        \\/ \\/ \\/\n",
    "result_df = optimize_SARIMA(temp3['y'], parameters_list, 1, 1, 2)\n",
    "result_df"
   ]
  },
  {
   "cell_type": "markdown",
   "metadata": {},
   "source": [
    "## fitting the best model fit with SARIMAX "
   ]
  },
  {
   "cell_type": "code",
   "execution_count": null,
   "metadata": {},
   "outputs": [],
   "source": [
    "best_model2 = SARIMAX(temp3['y'], order=(2,1,3), seasonal_order=(0,1,0,4), simple_differencing=False)\n",
    "res = best_model2.fit(disp=False)\n",
    "\n",
    "print(res.summary())"
   ]
  },
  {
   "cell_type": "code",
   "execution_count": null,
   "metadata": {},
   "outputs": [],
   "source": [
    "res.plot_diagnostics();"
   ]
  },
  {
   "cell_type": "code",
   "execution_count": null,
   "metadata": {},
   "outputs": [],
   "source": [
    "n_forecast = 1000\n",
    "predict = res.get_prediction(end=best_model2.nobs + n_forecast)\n",
    "idx = np.arange(len(predict.predicted_mean))\n",
    "\n",
    "fig, ax = plt.subplots()\n",
    "ax.plot(temp3['y'], 'blue')\n",
    "ax.plot(idx[-n_forecast:], predict.predicted_mean[-n_forecast:], 'g--')\n",
    "\n",
    "ax.set(title='Temperature Forcast 2')\n",
    "plt.show()"
   ]
  },
  {
   "cell_type": "code",
   "execution_count": null,
   "metadata": {},
   "outputs": [],
   "source": [
    "temp3['model2'] = predict.predicted_mean\n",
    "temp3"
   ]
  },
  {
   "cell_type": "markdown",
   "metadata": {},
   "source": [
    "## taking into account mean squared error value for the model"
   ]
  },
  {
   "cell_type": "code",
   "execution_count": null,
   "metadata": {},
   "outputs": [],
   "source": [
    "mse = mean_squared_error(temp3['y'], temp3['model2'])\n",
    "print(f'MSE: {mse}')"
   ]
  },
  {
   "cell_type": "markdown",
   "metadata": {},
   "source": [
    "# ARIMA and SARIMA comparison"
   ]
  },
  {
   "cell_type": "code",
   "execution_count": null,
   "metadata": {},
   "outputs": [],
   "source": [
    "plt.plot(temp3['y'], color='blue', label='actual')\n",
    "plt.plot(temp3['model'], color='red', label='model')\n",
    "plt.plot(temp3['model2'], color='green', label='model2')\n",
    "plt.legend(loc='best')\n",
    "plt.title('comparison of ARIMA and SARIMA model to actual')\n",
    "plt.show()"
   ]
  }
 ],
 "metadata": {
  "kernelspec": {
   "display_name": "Python 3.10.11 ('env1')",
   "language": "python",
   "name": "python3"
  },
  "language_info": {
   "codemirror_mode": {
    "name": "ipython",
    "version": 3
   },
   "file_extension": ".py",
   "mimetype": "text/x-python",
   "name": "python",
   "nbconvert_exporter": "python",
   "pygments_lexer": "ipython3",
   "version": "3.10.11"
  },
  "orig_nbformat": 4,
  "vscode": {
   "interpreter": {
    "hash": "a9049ebe8788fae61bba2f7fd6dacbacdc36e523007b37ed96c358acab306c08"
   }
  }
 },
 "nbformat": 4,
 "nbformat_minor": 2
}
